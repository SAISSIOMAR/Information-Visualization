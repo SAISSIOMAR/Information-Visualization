{
 "cells": [
  {
   "cell_type": "code",
   "execution_count": 7,
   "metadata": {},
   "outputs": [],
   "source": [
    "import requests\n",
    "import json\n",
    "import os\n",
    "\n",
    "def getArtistsDocumentedStartingFrom(X):\n",
    "    \"\"\"\n",
    "    This function takes an index X and fetches a range of artists from the wasabi API starting from that index.\n",
    "    It checks if the 'data' directory exists, creates it if not, and then saves the data into a JSON file called 'documented_artists.json'.\n",
    "    \"\"\"\n",
    "    # API endpoint with the specified index X\n",
    "    url = f\"http://wasabi.i3s.unice.fr/api/v1/artist_all/{X}\"\n",
    "\n",
    "    # Attempt to fetch the data from the API\n",
    "    try:\n",
    "        response = requests.get(url)\n",
    "        # If the response is successful, no Exception will be raised\n",
    "        response.raise_for_status()\n",
    "    except requests.HTTPError as http_err:\n",
    "        return f\"HTTP error occurred: {http_err}\"\n",
    "    except Exception as err:\n",
    "        return f\"An error occurred: {err}\"\n",
    "    else:\n",
    "        # Load the response data into a JSON structure\n",
    "        data = response.json()\n",
    "        \n",
    "        # Define the directory and file path\n",
    "        file_path = 'documented_artists.json'\n",
    "        \n",
    "        # Writing the JSON data to a file\n",
    "        with open(file_path, 'w') as file:\n",
    "            json.dump(data, file, indent=4)\n",
    "        \n",
    "        return file_path"
   ]
  },
  {
   "cell_type": "code",
   "execution_count": 8,
   "metadata": {},
   "outputs": [
    {
     "data": {
      "text/plain": [
       "'documented_artists.json'"
      ]
     },
     "execution_count": 8,
     "metadata": {},
     "output_type": "execute_result"
    }
   ],
   "source": [
    "getArtistsDocumentedStartingFrom(40000)"
   ]
  },
  {
   "cell_type": "code",
   "execution_count": 9,
   "metadata": {},
   "outputs": [],
   "source": [
    "def clean_artist_data(json_file):\n",
    "    \"\"\"\n",
    "    This function takes a JSON file containing artist data and cleans it by keeping only the specified attributes.\n",
    "    It then saves the cleaned data into a new JSON file called 'cleaned_artists.json'.\n",
    "    \"\"\"\n",
    "    # Load the JSON data from the file\n",
    "    with open(json_file, 'r') as file:\n",
    "        data = json.load(file)\n",
    "\n",
    "    # The attributes to keep for each artist\n",
    "    artist_attributes_to_keep = {\n",
    "        '_id', 'name', 'labels', 'genres', 'locationInfo', 'deezerFans', 'location', 'type', 'lifeSpan', 'albums'\n",
    "    }\n",
    "    \n",
    "    # The attributes to keep for each album\n",
    "    album_attributes_to_keep = {\n",
    "        '_id', 'name', 'title', 'dateRelease', 'deezerFans', 'language', 'country', 'songs'\n",
    "    }\n",
    "    \n",
    "    # The attributes to keep for each song\n",
    "    song_attributes_to_keep = {\n",
    "        '_id', 'title', 'rank', 'position', 'language_detect', 'language', 'publicationDate'\n",
    "    }\n",
    "\n",
    "    # Clean the artist data\n",
    "    cleaned_data = []\n",
    "    for artist in data:\n",
    "        cleaned_artist = {key: artist[key] for key in artist if key in artist_attributes_to_keep}\n",
    "        if 'albums' in cleaned_artist:\n",
    "            cleaned_albums = []\n",
    "            for album in cleaned_artist['albums']:\n",
    "                cleaned_album = {key: album[key] for key in album if key in album_attributes_to_keep}\n",
    "                if 'songs' in cleaned_album:\n",
    "                    cleaned_songs = [{key: song[key] for key in song if key in song_attributes_to_keep} for song in cleaned_album['songs']]\n",
    "                    cleaned_album['songs'] = cleaned_songs\n",
    "                cleaned_albums.append(cleaned_album)\n",
    "            cleaned_artist['albums'] = cleaned_albums\n",
    "        cleaned_data.append(cleaned_artist)\n",
    "\n",
    "    # Save the cleaned data to a new JSON file\n",
    "    cleaned_file_path = 'cleaned_artists.json'\n",
    "    with open(cleaned_file_path, 'w') as file:\n",
    "        json.dump(cleaned_data, file, indent=4)\n",
    "\n",
    "    return cleaned_file_path"
   ]
  },
  {
   "cell_type": "code",
   "execution_count": 10,
   "metadata": {},
   "outputs": [
    {
     "data": {
      "text/plain": [
       "'cleaned_artists.json'"
      ]
     },
     "execution_count": 10,
     "metadata": {},
     "output_type": "execute_result"
    }
   ],
   "source": [
    "clean_artist_data('documented_artists.json')"
   ]
  },
  {
   "cell_type": "code",
   "execution_count": 11,
   "metadata": {},
   "outputs": [
    {
     "name": "stdout",
     "output_type": "stream",
     "text": [
      "Requirement already satisfied: pycountry_convert in c:\\users\\user\\appdata\\local\\programs\\python\\python311\\lib\\site-packages (0.7.2)"
     ]
    },
    {
     "name": "stderr",
     "output_type": "stream",
     "text": [
      "\n",
      "[notice] A new release of pip is available: 23.2.1 -> 23.3.1\n",
      "[notice] To update, run: python.exe -m pip install --upgrade pip\n"
     ]
    },
    {
     "name": "stdout",
     "output_type": "stream",
     "text": [
      "\n",
      "Requirement already satisfied: pprintpp>=0.3.0 in c:\\users\\user\\appdata\\local\\programs\\python\\python311\\lib\\site-packages (from pycountry_convert) (0.4.0)\n",
      "Requirement already satisfied: pycountry>=16.11.27.1 in c:\\users\\user\\appdata\\local\\programs\\python\\python311\\lib\\site-packages (from pycountry_convert) (22.3.5)\n",
      "Requirement already satisfied: pytest>=3.4.0 in c:\\users\\user\\appdata\\local\\programs\\python\\python311\\lib\\site-packages (from pycountry_convert) (7.4.3)\n",
      "Requirement already satisfied: pytest-mock>=1.6.3 in c:\\users\\user\\appdata\\local\\programs\\python\\python311\\lib\\site-packages (from pycountry_convert) (3.12.0)\n",
      "Requirement already satisfied: pytest-cov>=2.5.1 in c:\\users\\user\\appdata\\local\\programs\\python\\python311\\lib\\site-packages (from pycountry_convert) (4.1.0)\n",
      "Requirement already satisfied: repoze.lru>=0.7 in c:\\users\\user\\appdata\\local\\programs\\python\\python311\\lib\\site-packages (from pycountry_convert) (0.7)\n",
      "Requirement already satisfied: wheel>=0.30.0 in c:\\users\\user\\appdata\\local\\programs\\python\\python311\\lib\\site-packages (from pycountry_convert) (0.41.2)\n",
      "Requirement already satisfied: setuptools in c:\\users\\user\\appdata\\local\\programs\\python\\python311\\lib\\site-packages (from pycountry>=16.11.27.1->pycountry_convert) (65.5.0)\n",
      "Requirement already satisfied: iniconfig in c:\\users\\user\\appdata\\local\\programs\\python\\python311\\lib\\site-packages (from pytest>=3.4.0->pycountry_convert) (2.0.0)\n",
      "Requirement already satisfied: packaging in c:\\users\\user\\appdata\\local\\programs\\python\\python311\\lib\\site-packages (from pytest>=3.4.0->pycountry_convert) (23.0)\n",
      "Requirement already satisfied: pluggy<2.0,>=0.12 in c:\\users\\user\\appdata\\local\\programs\\python\\python311\\lib\\site-packages (from pytest>=3.4.0->pycountry_convert) (1.3.0)\n",
      "Requirement already satisfied: colorama in c:\\users\\user\\appdata\\local\\programs\\python\\python311\\lib\\site-packages (from pytest>=3.4.0->pycountry_convert) (0.4.6)\n",
      "Requirement already satisfied: coverage[toml]>=5.2.1 in c:\\users\\user\\appdata\\local\\programs\\python\\python311\\lib\\site-packages (from pytest-cov>=2.5.1->pycountry_convert) (7.3.2)\n"
     ]
    }
   ],
   "source": [
    "!pip install pycountry_convert"
   ]
  },
  {
   "cell_type": "code",
   "execution_count": 12,
   "metadata": {},
   "outputs": [],
   "source": [
    "import json\n",
    "from datetime import datetime\n",
    "import pycountry_convert as pc\n",
    "\n",
    "def calculate_life_span_in_years(begin, end, ended):\n",
    "    current_year = datetime.now().year\n",
    "    # check if begin_year and end_year are of type int\n",
    "    if ( begin.split('-')[0] != '????' and end.split('-')[0] != '????' ):\n",
    "        begin_year = int(begin.split('-')[0]) if begin else current_year\n",
    "        end_year = int(end.split('-')[0]) if ended and end else current_year\n",
    "        return end_year - begin_year\n",
    "    else:\n",
    "        return None\n",
    "\n",
    "def calculate_average_rank(albums):\n",
    "    # Calculate the average rank of all songs, excluding those with rank 0\n",
    "    total_rank = 0\n",
    "    count = 0\n",
    "    for album in albums:\n",
    "        for song in album.get('songs', []):\n",
    "            rank = song.get('rank', 0)\n",
    "            if rank > 0:\n",
    "                total_rank += rank\n",
    "                count += 1\n",
    "    return total_rank / count if count > 0 else 0\n",
    "\n",
    "def country_to_continent(country_name):\n",
    "    try:\n",
    "        country_alpha2 = pc.country_name_to_country_alpha2(country_name)\n",
    "        country_continent_code = pc.country_alpha2_to_continent_code(country_alpha2)\n",
    "        country_continent_name = pc.convert_continent_code_to_continent_name(country_continent_code)\n",
    "        return country_continent_name\n",
    "    except:\n",
    "        return None\n",
    "\n",
    "def add_additional_attributes(json_file):\n",
    "    with open(json_file, 'r') as file:\n",
    "        artists_data = json.load(file)\n",
    "\n",
    "    for artist in artists_data:\n",
    "        artist['lifeSpanInYears'] = calculate_life_span_in_years(\n",
    "            artist['lifeSpan']['begin'],\n",
    "            artist['lifeSpan']['end'],\n",
    "            artist['lifeSpan']['ended']\n",
    "        )\n",
    "        artist['numberOfAlbums'] = len(artist.get('albums', []))\n",
    "        artist['numberOfSongs'] = sum(len(album.get('songs', [])) for album in artist.get('albums', []))\n",
    "        artist['artistRank'] = calculate_average_rank(artist.get('albums', []))\n",
    "        if ( artist['lifeSpan']['ended'] ):\n",
    "            artist['isActive'] = True\n",
    "        else:\n",
    "            artist['isActive'] = False\n",
    "\n",
    "        # Get the country from locationInfo or location\n",
    "        country = (artist.get('locationInfo') or [None])[0] or artist.get('location', {}).get('country')\n",
    "        artist['artistContinent'] = country_to_continent(country) if country else None\n",
    "\n",
    "    output_file = 'bubble_plot_data.json'\n",
    "    with open(output_file, 'w') as file:\n",
    "        json.dump(artists_data, file, indent=4)\n",
    "\n",
    "    return output_file"
   ]
  },
  {
   "cell_type": "code",
   "execution_count": 13,
   "metadata": {},
   "outputs": [
    {
     "data": {
      "text/plain": [
       "'bubble_plot_data.json'"
      ]
     },
     "execution_count": 13,
     "metadata": {},
     "output_type": "execute_result"
    }
   ],
   "source": [
    "add_additional_attributes('cleaned_artists.json')"
   ]
  }
 ],
 "metadata": {
  "kernelspec": {
   "display_name": "Python 3",
   "language": "python",
   "name": "python3"
  },
  "language_info": {
   "codemirror_mode": {
    "name": "ipython",
    "version": 3
   },
   "file_extension": ".py",
   "mimetype": "text/x-python",
   "name": "python",
   "nbconvert_exporter": "python",
   "pygments_lexer": "ipython3",
   "version": "3.11.2"
  }
 },
 "nbformat": 4,
 "nbformat_minor": 2
}
